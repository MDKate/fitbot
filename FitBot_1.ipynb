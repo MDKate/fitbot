{
  "nbformat": 4,
  "nbformat_minor": 0,
  "metadata": {
    "colab": {
      "provenance": [],
      "collapsed_sections": [],
      "authorship_tag": "ABX9TyMmsKOqC97rLswp8oM0Pv9m",
      "include_colab_link": true
    },
    "kernelspec": {
      "name": "python3",
      "display_name": "Python 3"
    },
    "language_info": {
      "name": "python"
    }
  },
  "cells": [
    {
      "cell_type": "markdown",
      "metadata": {
        "id": "view-in-github",
        "colab_type": "text"
      },
      "source": [
        "<a href=\"https://colab.research.google.com/github/MDKate/fitbot/blob/master/FitBot_1.ipynb\" target=\"_parent\"><img src=\"https://colab.research.google.com/assets/colab-badge.svg\" alt=\"Open In Colab\"/></a>"
      ]
    },
    {
      "cell_type": "code",
      "source": [
        "!pip3 install --upgrade pyTelegramBotAPI\n",
        "import telebot\n",
        "from telebot import types\n",
        "import pandas as pd\n",
        "import numpy as np"
      ],
      "metadata": {
        "id": "SrVrhcN6Cfab",
        "colab": {
          "base_uri": "https://localhost:8080/"
        },
        "outputId": "8a03159a-4d14-43e5-ba95-63d80389aab1"
      },
      "execution_count": 1,
      "outputs": [
        {
          "output_type": "stream",
          "name": "stdout",
          "text": [
            "Looking in indexes: https://pypi.org/simple, https://us-python.pkg.dev/colab-wheels/public/simple/\n",
            "Collecting pyTelegramBotAPI\n",
            "  Downloading pyTelegramBotAPI-4.7.1.tar.gz (213 kB)\n",
            "\u001b[K     |████████████████████████████████| 213 kB 26.1 MB/s \n",
            "\u001b[?25hRequirement already satisfied: requests in /usr/local/lib/python3.7/dist-packages (from pyTelegramBotAPI) (2.23.0)\n",
            "Requirement already satisfied: idna<3,>=2.5 in /usr/local/lib/python3.7/dist-packages (from requests->pyTelegramBotAPI) (2.10)\n",
            "Requirement already satisfied: chardet<4,>=3.0.2 in /usr/local/lib/python3.7/dist-packages (from requests->pyTelegramBotAPI) (3.0.4)\n",
            "Requirement already satisfied: urllib3!=1.25.0,!=1.25.1,<1.26,>=1.21.1 in /usr/local/lib/python3.7/dist-packages (from requests->pyTelegramBotAPI) (1.24.3)\n",
            "Requirement already satisfied: certifi>=2017.4.17 in /usr/local/lib/python3.7/dist-packages (from requests->pyTelegramBotAPI) (2022.9.24)\n",
            "Building wheels for collected packages: pyTelegramBotAPI\n",
            "  Building wheel for pyTelegramBotAPI (setup.py) ... \u001b[?25l\u001b[?25hdone\n",
            "  Created wheel for pyTelegramBotAPI: filename=pyTelegramBotAPI-4.7.1-py3-none-any.whl size=196988 sha256=f1d72706c62665e807862d501d733e51053efccf07efe8e6a77310e09d850f2a\n",
            "  Stored in directory: /root/.cache/pip/wheels/84/72/5f/8a7b3ca1ef1250002cf3bac48e0c72c5ee5c9596a5b1295dc1\n",
            "Successfully built pyTelegramBotAPI\n",
            "Installing collected packages: pyTelegramBotAPI\n",
            "Successfully installed pyTelegramBotAPI-4.7.1\n"
          ]
        }
      ]
    },
    {
      "cell_type": "code",
      "source": [
        "from google.colab import drive\n",
        "drive.mount('/content/gdrive')"
      ],
      "metadata": {
        "colab": {
          "base_uri": "https://localhost:8080/"
        },
        "id": "nQFxPz4jIreN",
        "outputId": "47869ae5-7a8d-4560-f085-3de6f9306a42"
      },
      "execution_count": null,
      "outputs": [
        {
          "output_type": "stream",
          "name": "stdout",
          "text": [
            "Mounted at /content/gdrive\n"
          ]
        }
      ]
    },
    {
      "cell_type": "code",
      "execution_count": null,
      "metadata": {
        "id": "jflR5aqw2ZUv"
      },
      "outputs": [],
      "source": [
        "\n",
        "# import pyTelegramBotAPI\n",
        "bot = telebot.TeleBot('1022369852:AAFgpjNBwQYMc0Jxl2bdyeQjLx3K918jN0A')\n",
        "@bot.message_handler(commands=['start'])\n",
        "def start(message):\n",
        "\tbot.send_message(message.chat.id, '<b>H1e1l1l1ol</b>', parse_mode='html')\n",
        " \n",
        "# @bot.message_handler()\n",
        "# def start(message):\n",
        "#   if message.text == \"hello\":\n",
        "# \t  bot.send_message(message.chat.id, f'<b>hi! {message.from_user.id}</b>', parse_mode='html')\n",
        "#   elif message.text == \"photo\":\n",
        "# \t  photo = open('/content/gdrive/My Drive/testbot/1.jpg', 'rb')\n",
        "# \t  bot.send_photo(message.chat.id, photo) \n",
        "#   elif message.text == \"video\":\n",
        "# \t  video= open('/content/gdrive/My Drive/testbot/2.mp4', 'rb')\n",
        "# \t  bot.send_video(message.chat.id, video) \n",
        "\n",
        "\n",
        "@bot.message_handler(commands=['site'])\n",
        "def start_button(message):\n",
        "  markup = types.InlineKeyboardMarkup()\n",
        "  markup.add(types.InlineKeyboardButton('click', url=\"https://vk.com/31536894\"))\n",
        "  bot.send_message(message.chat.id, f'<b>html</b>', parse_mode='html', reply_markup=markup)\n",
        "\n",
        "\n",
        "@bot.message_handler(commands=['help'])\n",
        "def start_button(message):\n",
        "  markup = types.ReplyKeyboardMarkup()  \n",
        "  start = types.KeyboardButton(\"Start\")\n",
        "  markup.add(start)\n",
        "  bot.send_message(message.chat.id, 'html',  reply_markup=markup)\n",
        "\n",
        "bot.polling(none_stop=True)"
      ]
    },
    {
      "cell_type": "code",
      "source": [
        "tree = pd.DataFrame(columns={'FirstLevel', 'SecondLevel', 'ThirdLevel', 'FourthLevel', 'Name', 'Type'}) #Создаем и наполняем таблицу состояний\n",
        "\n",
        "tree = tree.append({'FirstLevel': 1, 'SecondLevel': 0, 'ThirdLevel': 0, 'FourthLevel': 0, 'Name': \"#СГУнаСпорте\", 'Type': ''}, ignore_index=True) \n",
        "\n",
        "tree = tree.append({'FirstLevel': 1, 'SecondLevel': 1, 'ThirdLevel': 0, 'FourthLevel': 0, 'Name': \"Зарядка\", 'Type': 'Тип 2'}, ignore_index=True) \n",
        "tree = tree.append({'FirstLevel': 1, 'SecondLevel': 1, 'ThirdLevel': 1, 'FourthLevel': 0, 'Name': \"Файл: Зарядка Видео 1\", 'Type': ''}, ignore_index=True) \n",
        "tree = tree.append({'FirstLevel': 1, 'SecondLevel': 1, 'ThirdLevel': 2, 'FourthLevel': 0, 'Name': \"Файл: Зарядка Видео 2\", 'Type': ''}, ignore_index=True) \n",
        "tree = tree.append({'FirstLevel': 1, 'SecondLevel': 1, 'ThirdLevel': 3, 'FourthLevel': 0, 'Name': \"Файл: Зарядка Видео 3\", 'Type': ''}, ignore_index=True) \n",
        "tree = tree.append({'FirstLevel': 1, 'SecondLevel': 2, 'ThirdLevel': 0, 'FourthLevel': 0, 'Name': \"Суставная Гимнастика\", 'Type': 'Тип 2'}, ignore_index=True) \n",
        "tree = tree.append({'FirstLevel': 1, 'SecondLevel': 2, 'ThirdLevel': 1, 'FourthLevel': 0, 'Name': \"Файл: Суставная Гимнастика Видео 1\", 'Type': ''}, ignore_index=True) \n",
        "tree = tree.append({'FirstLevel': 1, 'SecondLevel': 2, 'ThirdLevel': 2, 'FourthLevel': 0, 'Name': \"Файл: Суставная Гимнастика Видео 2\", 'Type': ''}, ignore_index=True) \n",
        "tree = tree.append({'FirstLevel': 1, 'SecondLevel': 2, 'ThirdLevel': 3, 'FourthLevel': 0, 'Name': \"Файл: Суставная Гимнастика Видео 3\", 'Type': ''}, ignore_index=True) \n",
        "tree = tree.append({'FirstLevel': 1, 'SecondLevel': 3, 'ThirdLevel': 0, 'FourthLevel': 0, 'Name': \"Общая функциональная тренировка\", 'Type': ''}, ignore_index=True) \n",
        "tree = tree.append({'FirstLevel': 1, 'SecondLevel': 3, 'ThirdLevel': 1, 'FourthLevel': 0, 'Name': \"Файл: Общая функциональная тренировка Видео 1\", 'Type': ''}, ignore_index=True) \n",
        "tree = tree.append({'FirstLevel': 1, 'SecondLevel': 3, 'ThirdLevel': 2, 'FourthLevel': 0, 'Name': \"Файл: Общая функциональная тренировка Видео 2\", 'Type': ''}, ignore_index=True) \n",
        "tree = tree.append({'FirstLevel': 1, 'SecondLevel': 3, 'ThirdLevel': 3, 'FourthLevel': 0, 'Name': \"Файл: Общая функциональная тренировка Видео 3\", 'Type': ''}, ignore_index=True) \n",
        "tree = tree.append({'FirstLevel': 1, 'SecondLevel': 4, 'ThirdLevel': 0, 'FourthLevel': 0, 'Name': \"Хатха Йога\", 'Type': 'Тип 2'}, ignore_index=True) \n",
        "tree = tree.append({'FirstLevel': 1, 'SecondLevel': 4, 'ThirdLevel': 1, 'FourthLevel': 0, 'Name': \"Файл: Хатха Йога Видео 1\", 'Type': ''}, ignore_index=True) \n",
        "tree = tree.append({'FirstLevel': 1, 'SecondLevel': 4, 'ThirdLevel': 2, 'FourthLevel': 0, 'Name': \"Файл: Хатха Йога Видео 2\", 'Type': ''}, ignore_index=True) \n",
        "tree = tree.append({'FirstLevel': 1, 'SecondLevel': 4, 'ThirdLevel': 3, 'FourthLevel': 0, 'Name': \"Файл: Хатха Йога Видео 3\", 'Type': ''}, ignore_index=True) \n",
        "tree = tree.append({'FirstLevel': 1, 'SecondLevel': 5, 'ThirdLevel': 0, 'FourthLevel': 0, 'Name': \"Пилатес\", 'Type': 'Тип 2'}, ignore_index=True) \n",
        "tree = tree.append({'FirstLevel': 1, 'SecondLevel': 5, 'ThirdLevel': 1, 'FourthLevel': 0, 'Name': \"Файл: Пилатес Видео 1\", 'Type': ''}, ignore_index=True) \n",
        "tree = tree.append({'FirstLevel': 1, 'SecondLevel': 5, 'ThirdLevel': 2, 'FourthLevel': 0, 'Name': \"Файл: Пилатес Видео 2\", 'Type': ''}, ignore_index=True) \n",
        "tree = tree.append({'FirstLevel': 1, 'SecondLevel': 5, 'ThirdLevel': 3, 'FourthLevel': 0, 'Name': \"Файл: Пилатес Видео 3\", 'Type': ''}, ignore_index=True) \n",
        "tree = tree.append({'FirstLevel': 1, 'SecondLevel': 6, 'ThirdLevel': 0, 'FourthLevel': 0, 'Name': \"Общая силовая тренировка\", 'Type': 'Тип 2'}, ignore_index=True) \n",
        "tree = tree.append({'FirstLevel': 1, 'SecondLevel': 6, 'ThirdLevel': 1, 'FourthLevel': 0, 'Name': \"Файл: Общая силовая тренировка Видео 1\", 'Type': ''}, ignore_index=True) \n",
        "tree = tree.append({'FirstLevel': 1, 'SecondLevel': 6, 'ThirdLevel': 2, 'FourthLevel': 0, 'Name': \"Файл: Общая силовая тренировка Видео 2\", 'Type': ''}, ignore_index=True) \n",
        "tree = tree.append({'FirstLevel': 1, 'SecondLevel': 6, 'ThirdLevel': 3, 'FourthLevel': 0, 'Name': \"Файл: Общая силовая тренировка Видео 3\", 'Type': ''}, ignore_index=True) \n",
        "\n",
        "tree = tree.append({'FirstLevel': 2, 'SecondLevel': 0, 'ThirdLevel': 0, 'FourthLevel': 0, 'Name': \"#ПроПитание\", 'Type': ''}, ignore_index=True) \n",
        "\n",
        "tree = tree.append({'FirstLevel': 2, 'SecondLevel': 1, 'ThirdLevel': 0, 'FourthLevel': 0, 'Name': \"Помощник: что сегодня съесть?\", 'Type': 'Тип 3'}, ignore_index=True) \n",
        "tree = tree.append({'FirstLevel': 2, 'SecondLevel': 1, 'ThirdLevel': 1, 'FourthLevel': 0, 'Name': \"Файл: Произвольный рецепт\", 'Type': ''}, ignore_index=True) \n",
        "tree = tree.append({'FirstLevel': 2, 'SecondLevel': 2, 'ThirdLevel': 0, 'FourthLevel': 0, 'Name': \"Завтрак\", 'Type': 'Тип 4'}, ignore_index=True) \n",
        "tree = tree.append({'FirstLevel': 2, 'SecondLevel': 2, 'ThirdLevel': 1, 'FourthLevel': 0, 'Name': \"Завтрак 300 ккал\", 'Type': ''}, ignore_index=True) \n",
        "tree = tree.append({'FirstLevel': 2, 'SecondLevel': 2, 'ThirdLevel': 1, 'FourthLevel': 1, 'Name': \"Файл: Завтрак 300 ккал рецепт 1\", 'Type': ''}, ignore_index=True) \n",
        "tree = tree.append({'FirstLevel': 2, 'SecondLevel': 2, 'ThirdLevel': 1, 'FourthLevel': 2, 'Name': \"Файл: Завтрак 300 ккал рецепт 2\", 'Type': ''}, ignore_index=True) \n",
        "tree = tree.append({'FirstLevel': 2, 'SecondLevel': 2, 'ThirdLevel': 2, 'FourthLevel': 0, 'Name': \"Завтрак 1000 ккал\", 'Type': ''}, ignore_index=True) \n",
        "tree = tree.append({'FirstLevel': 2, 'SecondLevel': 2, 'ThirdLevel': 2, 'FourthLevel': 1, 'Name': \"Файл: Завтрак 1000 ккал рецепт 1\", 'Type': ''}, ignore_index=True) \n",
        "tree = tree.append({'FirstLevel': 2, 'SecondLevel': 2, 'ThirdLevel': 2, 'FourthLevel': 2, 'Name': \"Файл: Завтрак 1000 ккал рецепт 2\", 'Type': ''}, ignore_index=True) \n",
        "tree = tree.append({'FirstLevel': 2, 'SecondLevel': 3, 'ThirdLevel': 0, 'FourthLevel': 0, 'Name': \"Обед\", 'Type': 'Тип 4'}, ignore_index=True) \n",
        "tree = tree.append({'FirstLevel': 2, 'SecondLevel': 3, 'ThirdLevel': 3, 'FourthLevel': 0, 'Name': \"Обед 300 ккал\", 'Type': ''}, ignore_index=True) \n",
        "tree = tree.append({'FirstLevel': 2, 'SecondLevel': 3, 'ThirdLevel': 3, 'FourthLevel': 1, 'Name': \"Файл: Обед 300 ккал рецепт 1\", 'Type': ''}, ignore_index=True) \n",
        "tree = tree.append({'FirstLevel': 2, 'SecondLevel': 3, 'ThirdLevel': 3, 'FourthLevel': 2, 'Name': \"Файл: Обед 300 ккал рецепт 2\", 'Type': ''}, ignore_index=True) \n",
        "tree = tree.append({'FirstLevel': 2, 'SecondLevel': 3, 'ThirdLevel': 4, 'FourthLevel': 0, 'Name': \"Обед 1000 ккал\", 'Type': ''}, ignore_index=True) \n",
        "tree = tree.append({'FirstLevel': 2, 'SecondLevel': 3, 'ThirdLevel': 4, 'FourthLevel': 1, 'Name': \"Файл: Обед 1000 ккал рецепт 1\", 'Type': ''}, ignore_index=True) \n",
        "tree = tree.append({'FirstLevel': 2, 'SecondLevel': 3, 'ThirdLevel': 4, 'FourthLevel': 2, 'Name': \"Файл: Обед 1000 ккал рецепт 2\", 'Type': ''}, ignore_index=True) \n",
        "tree = tree.append({'FirstLevel': 2, 'SecondLevel': 4, 'ThirdLevel': 0, 'FourthLevel': 0, 'Name': \"Ужин\", 'Type': 'Тип 4'}, ignore_index=True) \n",
        "tree = tree.append({'FirstLevel': 2, 'SecondLevel': 4, 'ThirdLevel': 5, 'FourthLevel': 0, 'Name': \"Ужин 300 ккал\", 'Type': ''}, ignore_index=True) \n",
        "tree = tree.append({'FirstLevel': 2, 'SecondLevel': 4, 'ThirdLevel': 5, 'FourthLevel': 1, 'Name': \"Файл: Ужин 300 ккал рецепт 1\", 'Type': ''}, ignore_index=True) \n",
        "tree = tree.append({'FirstLevel': 2, 'SecondLevel': 4, 'ThirdLevel': 5, 'FourthLevel': 2, 'Name': \"Файл: Ужин 300 ккал рецепт 2\", 'Type': ''}, ignore_index=True) \n",
        "tree = tree.append({'FirstLevel': 2, 'SecondLevel': 4, 'ThirdLevel': 6, 'FourthLevel': 0, 'Name': \"Ужин 1000 ккал\", 'Type': ''}, ignore_index=True) \n",
        "tree = tree.append({'FirstLevel': 2, 'SecondLevel': 4, 'ThirdLevel': 6, 'FourthLevel': 1, 'Name': \"Файл: Ужин 1000 ккал рецепт 1\", 'Type': ''}, ignore_index=True) \n",
        "tree = tree.append({'FirstLevel': 2, 'SecondLevel': 4, 'ThirdLevel': 6, 'FourthLevel': 2, 'Name': \"Файл: Ужин 1000 ккал рецепт 2\", 'Type': ''}, ignore_index=True) \n",
        "\n",
        "tree = tree.append({'FirstLevel': 3, 'SecondLevel': 0, 'ThirdLevel': 0, 'FourthLevel': 0, 'Name': \"#FitЛекции\", 'Type': ''}, ignore_index=True) \n",
        "\n",
        "tree = tree.append({'FirstLevel': 3, 'SecondLevel': 1, 'ThirdLevel': 0, 'FourthLevel': 0, 'Name': \"Здоровая спина\", 'Type': 'Тип 3'}, ignore_index=True) \n",
        "tree = tree.append({'FirstLevel': 3, 'SecondLevel': 1, 'ThirdLevel': 1, 'FourthLevel': 0, 'Name': \"Файл: Здоровая спина ссылка\", 'Type': ''}, ignore_index=True) \n",
        "tree = tree.append({'FirstLevel': 3, 'SecondLevel': 2, 'ThirdLevel': 0, 'FourthLevel': 0, 'Name': \"Жданов В.А. aka Березовая роща\", 'Type': 'Тип 2'}, ignore_index=True) \n",
        "tree = tree.append({'FirstLevel': 3, 'SecondLevel': 2, 'ThirdLevel': 1, 'FourthLevel': 0, 'Name': \"Файл: Жданов Видео 1\", 'Type': ''}, ignore_index=True) \n",
        "tree = tree.append({'FirstLevel': 3, 'SecondLevel': 2, 'ThirdLevel': 2, 'FourthLevel': 0, 'Name': \"Файл: Жданов Видео 2\", 'Type': ''}, ignore_index=True) \n",
        "tree = tree.append({'FirstLevel': 3, 'SecondLevel': 2, 'ThirdLevel': 3, 'FourthLevel': 0, 'Name': \"Файл: Жданов Видео 3\", 'Type': ''}, ignore_index=True) \n",
        "tree = tree.append({'FirstLevel': 3, 'SecondLevel': 3, 'ThirdLevel': 0, 'FourthLevel': 0, 'Name': \"Приглашенные эксперты\", 'Type': 'Тип 2'}, ignore_index=True) \n",
        "tree = tree.append({'FirstLevel': 3, 'SecondLevel': 3, 'ThirdLevel': 1, 'FourthLevel': 0, 'Name': \"Файл: Приглашенные эксперты Видео 1\", 'Type': ''}, ignore_index=True) \n",
        "tree = tree.append({'FirstLevel': 3, 'SecondLevel': 3, 'ThirdLevel': 2, 'FourthLevel': 0, 'Name': \"Файл: Приглашенные эксперты Видео 2\", 'Type': ''}, ignore_index=True) \n",
        "tree = tree.append({'FirstLevel': 3, 'SecondLevel': 3, 'ThirdLevel': 3, 'FourthLevel': 0, 'Name': \"Файл: Приглашенные эксперты Видео 3\", 'Type': ''}, ignore_index=True) \n",
        "\n",
        "tree = tree.append({'FirstLevel': 4, 'SecondLevel': 0, 'ThirdLevel': 0, 'FourthLevel': 0, 'Name': \"#ГТО\", 'Type': ''}, ignore_index=True) \n",
        "\n",
        "tree = tree.append({'FirstLevel': 4, 'SecondLevel': 1, 'ThirdLevel': 0, 'FourthLevel': 0, 'Name': \"Взрослые\", 'Type': 'Тип 5'}, ignore_index=True) \n",
        "tree = tree.append({'FirstLevel': 4, 'SecondLevel': 1, 'ThirdLevel': 1, 'FourthLevel': 0, 'Name': \"18-24 лет\", 'Type': ''}, ignore_index=True) \n",
        "tree = tree.append({'FirstLevel': 4, 'SecondLevel': 1, 'ThirdLevel': 1, 'FourthLevel': 1, 'Name': \"Файл: Нормы 18-24\", 'Type': ''}, ignore_index=True) \n",
        "tree = tree.append({'FirstLevel': 4, 'SecondLevel': 1, 'ThirdLevel': 2, 'FourthLevel': 0, 'Name': \"25-29 лет\", 'Type': ''}, ignore_index=True) \n",
        "tree = tree.append({'FirstLevel': 4, 'SecondLevel': 1, 'ThirdLevel': 2, 'FourthLevel': 1, 'Name': \"Файл: Нормы 25-29\", 'Type': ''}, ignore_index=True) \n",
        "tree = tree.append({'FirstLevel': 4, 'SecondLevel': 1, 'ThirdLevel': 3, 'FourthLevel': 0, 'Name': \"30-34 лет\", 'Type': ''}, ignore_index=True) \n",
        "tree = tree.append({'FirstLevel': 4, 'SecondLevel': 1, 'ThirdLevel': 3, 'FourthLevel': 1, 'Name': \"Файл: Нормы 30-34\", 'Type': ''}, ignore_index=True) \n",
        "tree = tree.append({'FirstLevel': 4, 'SecondLevel': 1, 'ThirdLevel': 4, 'FourthLevel': 0, 'Name': \"35-39 лет\", 'Type': ''}, ignore_index=True) \n",
        "tree = tree.append({'FirstLevel': 4, 'SecondLevel': 1, 'ThirdLevel': 4, 'FourthLevel': 1, 'Name': \"Файл: Нормы 35-39\", 'Type': ''}, ignore_index=True) \n",
        "tree = tree.append({'FirstLevel': 4, 'SecondLevel': 1, 'ThirdLevel': 5, 'FourthLevel': 0, 'Name': \"40-44 лет\", 'Type': ''}, ignore_index=True) \n",
        "tree = tree.append({'FirstLevel': 4, 'SecondLevel': 1, 'ThirdLevel': 5, 'FourthLevel': 1, 'Name': \"Файл: Нормы 40-44\", 'Type': ''}, ignore_index=True) \n",
        "tree = tree.append({'FirstLevel': 4, 'SecondLevel': 1, 'ThirdLevel': 6, 'FourthLevel': 0, 'Name': \"45-49 лет\", 'Type': ''}, ignore_index=True) \n",
        "tree = tree.append({'FirstLevel': 4, 'SecondLevel': 1, 'ThirdLevel': 6, 'FourthLevel': 1, 'Name': \"Файл: Нормы 45-49\", 'Type': ''}, ignore_index=True) \n",
        "tree = tree.append({'FirstLevel': 4, 'SecondLevel': 1, 'ThirdLevel': 7, 'FourthLevel': 0, 'Name': \"50-54 лет\", 'Type': ''}, ignore_index=True) \n",
        "tree = tree.append({'FirstLevel': 4, 'SecondLevel': 1, 'ThirdLevel': 7, 'FourthLevel': 1, 'Name': \"Файл: Нормы 50-54\", 'Type': ''}, ignore_index=True) \n",
        "tree = tree.append({'FirstLevel': 4, 'SecondLevel': 1, 'ThirdLevel': 8, 'FourthLevel': 0, 'Name': \"55-59 лет\", 'Type': ''}, ignore_index=True) \n",
        "tree = tree.append({'FirstLevel': 4, 'SecondLevel': 1, 'ThirdLevel': 8, 'FourthLevel': 1, 'Name': \"Файл: Нормы 55-59\", 'Type': ''}, ignore_index=True) \n",
        "tree = tree.append({'FirstLevel': 4, 'SecondLevel': 1, 'ThirdLevel': 9, 'FourthLevel': 0, 'Name': \"60-69 лет\", 'Type': ''}, ignore_index=True) \n",
        "tree = tree.append({'FirstLevel': 4, 'SecondLevel': 1, 'ThirdLevel': 9, 'FourthLevel': 1, 'Name': \"Файл: Нормы 60-69\", 'Type': ''}, ignore_index=True) \n",
        "tree = tree.append({'FirstLevel': 4, 'SecondLevel': 1, 'ThirdLevel': 10, 'FourthLevel': 0, 'Name': \"70 лет и старше\", 'Type': ''}, ignore_index=True) \n",
        "tree = tree.append({'FirstLevel': 4, 'SecondLevel': 1, 'ThirdLevel': 10, 'FourthLevel': 1, 'Name': \"Файл: Нормы 70 лет и старше\", 'Type': ''}, ignore_index=True) \n",
        "tree = tree.append({'FirstLevel': 4, 'SecondLevel': 2, 'ThirdLevel': 0, 'FourthLevel': 0, 'Name': \"Дети\", 'Type': 'Тип 5'}, ignore_index=True) \n",
        "tree = tree.append({'FirstLevel': 4, 'SecondLevel': 2, 'ThirdLevel': 1, 'FourthLevel': 0, 'Name': \"6-8 лет\", 'Type': ''}, ignore_index=True) \n",
        "tree = tree.append({'FirstLevel': 4, 'SecondLevel': 2, 'ThirdLevel': 1, 'FourthLevel': 1, 'Name': \"Файл: Нормы 6-8\", 'Type': ''}, ignore_index=True) \n",
        "tree = tree.append({'FirstLevel': 4, 'SecondLevel': 2, 'ThirdLevel': 2, 'FourthLevel': 0, 'Name': \"9-10 лет\", 'Type': ''}, ignore_index=True) \n",
        "tree = tree.append({'FirstLevel': 4, 'SecondLevel': 2, 'ThirdLevel': 2, 'FourthLevel': 1, 'Name': \"Файл: Нормы 9-10\", 'Type': ''}, ignore_index=True) \n",
        "tree = tree.append({'FirstLevel': 4, 'SecondLevel': 2, 'ThirdLevel': 3, 'FourthLevel': 0, 'Name': \"11-12 лет\", 'Type': ''}, ignore_index=True) \n",
        "tree = tree.append({'FirstLevel': 4, 'SecondLevel': 2, 'ThirdLevel': 3, 'FourthLevel': 1, 'Name': \"Файл: Нормы 11-12\", 'Type': ''}, ignore_index=True) \n",
        "tree = tree.append({'FirstLevel': 4, 'SecondLevel': 2, 'ThirdLevel': 4, 'FourthLevel': 0, 'Name': \"13-15 лет\", 'Type': ''}, ignore_index=True) \n",
        "tree = tree.append({'FirstLevel': 4, 'SecondLevel': 2, 'ThirdLevel': 4, 'FourthLevel': 1, 'Name': \"Файл: Нормы 13-15\", 'Type': ''}, ignore_index=True) \n",
        "tree = tree.append({'FirstLevel': 4, 'SecondLevel': 2, 'ThirdLevel': 5, 'FourthLevel': 0, 'Name': \"16-17 лет\", 'Type': ''}, ignore_index=True) \n",
        "tree = tree.append({'FirstLevel': 4, 'SecondLevel': 2, 'ThirdLevel': 5, 'FourthLevel': 1, 'Name': \"Файл: Нормы 16-17\", 'Type': ''}, ignore_index=True) \n",
        "\n",
        "tree = tree.append({'FirstLevel': 5, 'SecondLevel': 0, 'ThirdLevel': 0, 'FourthLevel': 0, 'Name': \"#ДМС\", 'Type': ''}, ignore_index=True) \n",
        "\n",
        "tree = tree.append({'FirstLevel': 5, 'SecondLevel': 1, 'ThirdLevel': 0, 'FourthLevel': 0, 'Name': \"Список клиник (общий)\", 'Type': 'Тип 3'}, ignore_index=True) \n",
        "tree = tree.append({'FirstLevel': 5, 'SecondLevel': 1, 'ThirdLevel': 1, 'FourthLevel': 0, 'Name': \"Файл: Список общий\", 'Type': ''}, ignore_index=True) \n",
        "tree = tree.append({'FirstLevel': 5, 'SecondLevel': 2, 'ThirdLevel': 0, 'FourthLevel': 0, 'Name': \"Список клиник (стоматология)\", 'Type': 'Тип 3'}, ignore_index=True) \n",
        "tree = tree.append({'FirstLevel': 5, 'SecondLevel': 2, 'ThirdLevel': 1, 'FourthLevel': 0, 'Name': \"Файл: Список стоматологий\", 'Type': ''}, ignore_index=True) \n",
        "\n",
        "tree = tree.append({'FirstLevel': 6, 'SecondLevel': 0, 'ThirdLevel': 0, 'FourthLevel': 0, 'Name': \"#Чат для общения\", 'Type': 'Тип 1'}, ignore_index=True) \n",
        "\n",
        "tree = tree.append({'FirstLevel': 6, 'SecondLevel': 1, 'ThirdLevel': 0, 'FourthLevel': 0, 'Name': \"Файл: ЗОЖник\", 'Type': ''}, ignore_index=True) \n",
        "\n",
        "tree = tree.append({'FirstLevel': 7, 'SecondLevel': 0, 'ThirdLevel': 0, 'FourthLevel': 0, 'Name': \"#Наши секции\", 'Type': 'Тип 1'}, ignore_index=True) \n",
        "\n",
        "tree = tree.append({'FirstLevel': 7, 'SecondLevel': 1, 'ThirdLevel': 0, 'FourthLevel': 0, 'Name': \"Файл: Ката секций\", 'Type': ''}, ignore_index=True) \n",
        "\n",
        "tree['FirstLevel'] = tree['FirstLevel'].astype('int')\n",
        "tree['SecondLevel'] = tree['SecondLevel'].astype('int')\n",
        "tree['ThirdLevel'] = tree['ThirdLevel'].astype('int')\n",
        "tree['FourthLevel'] = tree['FourthLevel'].astype('int')\n",
        "\n",
        "tree = tree.reindex(columns=['FirstLevel', 'SecondLevel', 'ThirdLevel', 'FourthLevel', 'Name', 'Type'])\n",
        "tree"
      ],
      "metadata": {
        "id": "2xtuOFM2MF48",
        "colab": {
          "base_uri": "https://localhost:8080/",
          "height": 424
        },
        "outputId": "272e606c-272a-4806-e5d6-0349e3d8d2c4"
      },
      "execution_count": 106,
      "outputs": [
        {
          "output_type": "execute_result",
          "data": {
            "text/plain": [
              "     FirstLevel  SecondLevel  ThirdLevel  FourthLevel  \\\n",
              "0             1            0           0            0   \n",
              "1             1            1           0            0   \n",
              "2             1            1           1            0   \n",
              "3             1            1           2            0   \n",
              "4             1            1           3            0   \n",
              "..          ...          ...         ...          ...   \n",
              "97            5            2           1            0   \n",
              "98            6            0           0            0   \n",
              "99            6            1           0            0   \n",
              "100           7            0           0            0   \n",
              "101           7            1           0            0   \n",
              "\n",
              "                          Name   Type  \n",
              "0                 #СГУнаСпорте         \n",
              "1                      Зарядка  Тип 2  \n",
              "2        Файл: Зарядка Видео 1         \n",
              "3        Файл: Зарядка Видео 2         \n",
              "4        Файл: Зарядка Видео 3         \n",
              "..                         ...    ...  \n",
              "97   Файл: Список стоматологий         \n",
              "98            #Чат для общения  Тип 1  \n",
              "99                Файл: ЗОЖник         \n",
              "100               #Наши секции  Тип 1  \n",
              "101          Файл: Ката секций         \n",
              "\n",
              "[102 rows x 6 columns]"
            ],
            "text/html": [
              "\n",
              "  <div id=\"df-fe2098af-b0b7-4913-9be4-8e5ff1c8dbce\">\n",
              "    <div class=\"colab-df-container\">\n",
              "      <div>\n",
              "<style scoped>\n",
              "    .dataframe tbody tr th:only-of-type {\n",
              "        vertical-align: middle;\n",
              "    }\n",
              "\n",
              "    .dataframe tbody tr th {\n",
              "        vertical-align: top;\n",
              "    }\n",
              "\n",
              "    .dataframe thead th {\n",
              "        text-align: right;\n",
              "    }\n",
              "</style>\n",
              "<table border=\"1\" class=\"dataframe\">\n",
              "  <thead>\n",
              "    <tr style=\"text-align: right;\">\n",
              "      <th></th>\n",
              "      <th>FirstLevel</th>\n",
              "      <th>SecondLevel</th>\n",
              "      <th>ThirdLevel</th>\n",
              "      <th>FourthLevel</th>\n",
              "      <th>Name</th>\n",
              "      <th>Type</th>\n",
              "    </tr>\n",
              "  </thead>\n",
              "  <tbody>\n",
              "    <tr>\n",
              "      <th>0</th>\n",
              "      <td>1</td>\n",
              "      <td>0</td>\n",
              "      <td>0</td>\n",
              "      <td>0</td>\n",
              "      <td>#СГУнаСпорте</td>\n",
              "      <td></td>\n",
              "    </tr>\n",
              "    <tr>\n",
              "      <th>1</th>\n",
              "      <td>1</td>\n",
              "      <td>1</td>\n",
              "      <td>0</td>\n",
              "      <td>0</td>\n",
              "      <td>Зарядка</td>\n",
              "      <td>Тип 2</td>\n",
              "    </tr>\n",
              "    <tr>\n",
              "      <th>2</th>\n",
              "      <td>1</td>\n",
              "      <td>1</td>\n",
              "      <td>1</td>\n",
              "      <td>0</td>\n",
              "      <td>Файл: Зарядка Видео 1</td>\n",
              "      <td></td>\n",
              "    </tr>\n",
              "    <tr>\n",
              "      <th>3</th>\n",
              "      <td>1</td>\n",
              "      <td>1</td>\n",
              "      <td>2</td>\n",
              "      <td>0</td>\n",
              "      <td>Файл: Зарядка Видео 2</td>\n",
              "      <td></td>\n",
              "    </tr>\n",
              "    <tr>\n",
              "      <th>4</th>\n",
              "      <td>1</td>\n",
              "      <td>1</td>\n",
              "      <td>3</td>\n",
              "      <td>0</td>\n",
              "      <td>Файл: Зарядка Видео 3</td>\n",
              "      <td></td>\n",
              "    </tr>\n",
              "    <tr>\n",
              "      <th>...</th>\n",
              "      <td>...</td>\n",
              "      <td>...</td>\n",
              "      <td>...</td>\n",
              "      <td>...</td>\n",
              "      <td>...</td>\n",
              "      <td>...</td>\n",
              "    </tr>\n",
              "    <tr>\n",
              "      <th>97</th>\n",
              "      <td>5</td>\n",
              "      <td>2</td>\n",
              "      <td>1</td>\n",
              "      <td>0</td>\n",
              "      <td>Файл: Список стоматологий</td>\n",
              "      <td></td>\n",
              "    </tr>\n",
              "    <tr>\n",
              "      <th>98</th>\n",
              "      <td>6</td>\n",
              "      <td>0</td>\n",
              "      <td>0</td>\n",
              "      <td>0</td>\n",
              "      <td>#Чат для общения</td>\n",
              "      <td>Тип 1</td>\n",
              "    </tr>\n",
              "    <tr>\n",
              "      <th>99</th>\n",
              "      <td>6</td>\n",
              "      <td>1</td>\n",
              "      <td>0</td>\n",
              "      <td>0</td>\n",
              "      <td>Файл: ЗОЖник</td>\n",
              "      <td></td>\n",
              "    </tr>\n",
              "    <tr>\n",
              "      <th>100</th>\n",
              "      <td>7</td>\n",
              "      <td>0</td>\n",
              "      <td>0</td>\n",
              "      <td>0</td>\n",
              "      <td>#Наши секции</td>\n",
              "      <td>Тип 1</td>\n",
              "    </tr>\n",
              "    <tr>\n",
              "      <th>101</th>\n",
              "      <td>7</td>\n",
              "      <td>1</td>\n",
              "      <td>0</td>\n",
              "      <td>0</td>\n",
              "      <td>Файл: Ката секций</td>\n",
              "      <td></td>\n",
              "    </tr>\n",
              "  </tbody>\n",
              "</table>\n",
              "<p>102 rows × 6 columns</p>\n",
              "</div>\n",
              "      <button class=\"colab-df-convert\" onclick=\"convertToInteractive('df-fe2098af-b0b7-4913-9be4-8e5ff1c8dbce')\"\n",
              "              title=\"Convert this dataframe to an interactive table.\"\n",
              "              style=\"display:none;\">\n",
              "        \n",
              "  <svg xmlns=\"http://www.w3.org/2000/svg\" height=\"24px\"viewBox=\"0 0 24 24\"\n",
              "       width=\"24px\">\n",
              "    <path d=\"M0 0h24v24H0V0z\" fill=\"none\"/>\n",
              "    <path d=\"M18.56 5.44l.94 2.06.94-2.06 2.06-.94-2.06-.94-.94-2.06-.94 2.06-2.06.94zm-11 1L8.5 8.5l.94-2.06 2.06-.94-2.06-.94L8.5 2.5l-.94 2.06-2.06.94zm10 10l.94 2.06.94-2.06 2.06-.94-2.06-.94-.94-2.06-.94 2.06-2.06.94z\"/><path d=\"M17.41 7.96l-1.37-1.37c-.4-.4-.92-.59-1.43-.59-.52 0-1.04.2-1.43.59L10.3 9.45l-7.72 7.72c-.78.78-.78 2.05 0 2.83L4 21.41c.39.39.9.59 1.41.59.51 0 1.02-.2 1.41-.59l7.78-7.78 2.81-2.81c.8-.78.8-2.07 0-2.86zM5.41 20L4 18.59l7.72-7.72 1.47 1.35L5.41 20z\"/>\n",
              "  </svg>\n",
              "      </button>\n",
              "      \n",
              "  <style>\n",
              "    .colab-df-container {\n",
              "      display:flex;\n",
              "      flex-wrap:wrap;\n",
              "      gap: 12px;\n",
              "    }\n",
              "\n",
              "    .colab-df-convert {\n",
              "      background-color: #E8F0FE;\n",
              "      border: none;\n",
              "      border-radius: 50%;\n",
              "      cursor: pointer;\n",
              "      display: none;\n",
              "      fill: #1967D2;\n",
              "      height: 32px;\n",
              "      padding: 0 0 0 0;\n",
              "      width: 32px;\n",
              "    }\n",
              "\n",
              "    .colab-df-convert:hover {\n",
              "      background-color: #E2EBFA;\n",
              "      box-shadow: 0px 1px 2px rgba(60, 64, 67, 0.3), 0px 1px 3px 1px rgba(60, 64, 67, 0.15);\n",
              "      fill: #174EA6;\n",
              "    }\n",
              "\n",
              "    [theme=dark] .colab-df-convert {\n",
              "      background-color: #3B4455;\n",
              "      fill: #D2E3FC;\n",
              "    }\n",
              "\n",
              "    [theme=dark] .colab-df-convert:hover {\n",
              "      background-color: #434B5C;\n",
              "      box-shadow: 0px 1px 3px 1px rgba(0, 0, 0, 0.15);\n",
              "      filter: drop-shadow(0px 1px 2px rgba(0, 0, 0, 0.3));\n",
              "      fill: #FFFFFF;\n",
              "    }\n",
              "  </style>\n",
              "\n",
              "      <script>\n",
              "        const buttonEl =\n",
              "          document.querySelector('#df-fe2098af-b0b7-4913-9be4-8e5ff1c8dbce button.colab-df-convert');\n",
              "        buttonEl.style.display =\n",
              "          google.colab.kernel.accessAllowed ? 'block' : 'none';\n",
              "\n",
              "        async function convertToInteractive(key) {\n",
              "          const element = document.querySelector('#df-fe2098af-b0b7-4913-9be4-8e5ff1c8dbce');\n",
              "          const dataTable =\n",
              "            await google.colab.kernel.invokeFunction('convertToInteractive',\n",
              "                                                     [key], {});\n",
              "          if (!dataTable) return;\n",
              "\n",
              "          const docLinkHtml = 'Like what you see? Visit the ' +\n",
              "            '<a target=\"_blank\" href=https://colab.research.google.com/notebooks/data_table.ipynb>data table notebook</a>'\n",
              "            + ' to learn more about interactive tables.';\n",
              "          element.innerHTML = '';\n",
              "          dataTable['output_type'] = 'display_data';\n",
              "          await google.colab.output.renderOutput(dataTable, element);\n",
              "          const docLink = document.createElement('div');\n",
              "          docLink.innerHTML = docLinkHtml;\n",
              "          element.appendChild(docLink);\n",
              "        }\n",
              "      </script>\n",
              "    </div>\n",
              "  </div>\n",
              "  "
            ]
          },
          "metadata": {},
          "execution_count": 106
        }
      ]
    },
    {
      "cell_type": "code",
      "source": [
        "c=12 #Выбор кнопки"
      ],
      "metadata": {
        "id": "KSQtO0naRPFU"
      },
      "execution_count": 126,
      "outputs": []
    },
    {
      "cell_type": "code",
      "source": [
        "def ChoosingTopics(tree):\n",
        "  TopicName = np.array([str(tree['Name'][0:1][0]), 0]) #Заполняем первое значение первым именем ветки\n",
        "  for i in range(1, len(tree)): #Бежим по всей таблице\n",
        "    if int(tree['FirstLevel'][i-1:i]) != int(tree['FirstLevel'][i:i+1]): #Если текущая строка означает другую ветку, то\n",
        "      TopicName = np.append(TopicName, tree['Name'][i:i+1]) #Записать имя новой ветки\n",
        "      TopicName = np.append(TopicName, i) #Записываем ссылку на координаты\n",
        "  return TopicName \n",
        "\n",
        "choos = ChoosingTopics(tree)[c]\n",
        "ChoosingTopicsResult = ChoosingTopics(tree)\n",
        "print(choos)\n",
        "print(ChoosingTopicsResult)"
      ],
      "metadata": {
        "colab": {
          "base_uri": "https://localhost:8080/"
        },
        "id": "S-XGYfBYLs9B",
        "outputId": "4bc38fef-285d-40ec-b882-1bd8530f4a05"
      },
      "execution_count": 127,
      "outputs": [
        {
          "output_type": "stream",
          "name": "stdout",
          "text": [
            "#Наши секции\n",
            "['#СГУнаСпорте' '0' '#ПроПитание' 25 '#FitЛекции' 49 '#ГТО' 60 '#ДМС' 93\n",
            " '#Чат для общения' 98 '#Наши секции' 100]\n"
          ]
        }
      ]
    },
    {
      "cell_type": "code",
      "source": [
        "def SlidingLevelTupe1(tree, ChoosingTopicsResult, choos):\n",
        "  start1 = int(np.argwhere(ChoosingTopicsResult == choos)) #Определяем индекс выбранной кнопки\n",
        "  start = int(ChoosingTopicsResult[start1+1])+1 #Определяем первую строку отсчета для выбранной ветки\n",
        "  if start1+2 == len(ChoosingTopicsResult):\n",
        "    end = len(tree) \n",
        "  else: end = int(ChoosingTopicsResult[start1 + 3])-1 #Определяем последнюю строку отсчета для выбранной ветки\n",
        "    \n",
        "  if abs(end-start) == 1 or abs(end-start) == 0:\n",
        "    slidNameType1 = tree['Name'][start]\n",
        "    #Лист\n",
        "    #Начать снова\n",
        "    #firstLevel\n",
        "    #ChoosingTopics\n",
        "  else: slidNameType1=\"\"  \n",
        "  return slidNameType1 #заглушка\n",
        "\n",
        "slindingType1 = SlidingLevelTupe1(tree, ChoosingTopicsResult, choos)\n",
        "print(slindingType1)    "
      ],
      "metadata": {
        "colab": {
          "base_uri": "https://localhost:8080/"
        },
        "id": "Q54FDRih4RLw",
        "outputId": "e272a113-675d-4c57-c58f-37699a76427f"
      },
      "execution_count": 128,
      "outputs": [
        {
          "output_type": "stream",
          "name": "stdout",
          "text": [
            "Файл: Ката секций\n"
          ]
        }
      ]
    },
    {
      "cell_type": "code",
      "source": [
        "a = 2"
      ],
      "metadata": {
        "id": "8H2poxIOsp9B"
      },
      "execution_count": 97,
      "outputs": []
    },
    {
      "cell_type": "code",
      "source": [
        "def FirstLevel(tree, choos, ChoosingTopicsResult):\n",
        "  start1 = int(np.argwhere(ChoosingTopicsResult == choos)) #Определяем индекс выбранной кнопки\n",
        "  start = int(ChoosingTopicsResult[start1+1])+1 #Определяем первую строку отсчета для выбранной ветки\n",
        "  end = int(ChoosingTopicsResult[start1 + 3])-1 #Определяем последнюю строку отсчета для выбранной ветки\n",
        "  FirstName = np.array([np.array(tree['Name'][start:start+1])[0], start]) #Записываем первое имя ветки в этой ветке\n",
        "  for i in range(start+1, end): \n",
        "    if int(tree['SecondLevel'][i-1:i]) != int(tree['SecondLevel'][i:i+1]): #Есди это другая ветка внутри ветки\n",
        "      FirstName = np.append(FirstName, tree['Name'][i:i+1]) #Дописываем имя новой ветки\n",
        "      FirstName = np.append(FirstName, i) #Записываем ссылку на координаты\n",
        "  return FirstName\n",
        "\n",
        "firstResult = FirstLevel(tree, choos, ChoosingTopicsResult)\n",
        "first = firstResult[a]\n",
        "print(first)\n",
        "print(firstResult)"
      ],
      "metadata": {
        "id": "EFNM3GMdkyBJ"
      },
      "execution_count": null,
      "outputs": []
    },
    {
      "cell_type": "code",
      "source": [
        "def SlidingLevel(tree, firstResult, first):\n",
        "  start1 = int(np.argwhere(firstResult == first)) #Определяем индекс выбранной кнопки\n",
        "  start = int(firstResult[start1+1])+1 #Определяем первую строку отсчета для выбранной ветки\n",
        "  end = int(firstResult[start1 + 3])-1 #Определяем последнюю строку отсчета для выбранной ветки\n",
        "  if abs(end-start) == 0:\n",
        "    slidName = tree['Name'][end]\n",
        "    #Лист\n",
        "    #Начать снова\n",
        "    #firstLevel\n",
        "    #ChoosingTopics\n",
        "  else: slidName=\"\"  \n",
        "  return slidName #заглушка\n",
        "\n",
        "slinding = SlidingLevel(tree, firstResult, first)\n",
        "print(slinding)    "
      ],
      "metadata": {
        "id": "zx3JUEscx8IM",
        "colab": {
          "base_uri": "https://localhost:8080/"
        },
        "outputId": "cfb0aab4-f438-4bc8-d2d5-7c594d15bf1f"
      },
      "execution_count": 109,
      "outputs": [
        {
          "output_type": "stream",
          "name": "stdout",
          "text": [
            "\n"
          ]
        }
      ]
    },
    {
      "cell_type": "code",
      "source": [
        "b=0"
      ],
      "metadata": {
        "id": "UDngzl6yumCj"
      },
      "execution_count": 100,
      "outputs": []
    },
    {
      "cell_type": "code",
      "source": [
        "def SecondLevel(tree, firstResult, first):\n",
        "  start1 = int(np.argwhere(firstResult == first)) #Определяем индекс выбранной кнопки\n",
        "  start = int(firstResult[start1+1])+1 #Определяем первую строку отсчета для выбранной ветки\n",
        "  end = int(firstResult[start1 + 3])-1 #Определяем последнюю строку отсчета для выбранной ветки\n",
        "  SecondName = np.array([np.array(tree['Name'][start:start+1])[0], start]) #Записываем первое имя ветки в этой ветке\n",
        "  for i in range(start+1, end): \n",
        "    if int(tree['ThirdLevel'][i-1:i]) != int(tree['ThirdLevel'][i:i+1]): #Есди это другая ветка внутри ветки\n",
        "      SecondName = np.append(SecondName, tree['Name'][i:i+1]) #Дописываем имя новой ветки\n",
        "      SecondName = np.append(SecondName, i) #Записываем ссылку на координаты\n",
        "  return SecondName\n",
        "\n",
        "SecondResult = SecondLevel(tree, firstResult, first)\n",
        "Second = SecondResult[b]\n",
        "print(Second)\n",
        "print(SecondResult)  "
      ],
      "metadata": {
        "colab": {
          "base_uri": "https://localhost:8080/"
        },
        "id": "1xkbLjZbowi2",
        "outputId": "23e6c1e9-1f42-4538-fa0f-3b6d54ad58d4"
      },
      "execution_count": 101,
      "outputs": [
        {
          "output_type": "stream",
          "name": "stdout",
          "text": [
            "Завтрак 300 ккал\n",
            "['Завтрак 300 ккал' '29' 'Завтрак 1000 ккал' 32]\n"
          ]
        }
      ]
    },
    {
      "cell_type": "code",
      "source": [
        "#Не работает на 4 уровне\n",
        "def ThirdSlindingLevel(tree, SecondResult, Second):\n",
        "  start1 = int(np.argwhere(SecondResult == Second)) #Определяем индекс выбранной кнопки\n",
        "  start = int(SecondResult[start1+1])+1 #Определяем первую строку отсчета для выбранной ветки\n",
        "  end = int(SecondResult[start1 + 3])-1 #Определяем последнюю строку отсчета для выбранной ветки\n",
        "  if abs(end-start) == 1:\n",
        "    slidThirdName = tree['Name'][end]\n",
        "    #Лист\n",
        "    #Начать снова\n",
        "    #SecondLevel\n",
        "    #ChoosingTopics\n",
        "  else: slidThirdName=\"\"  \n",
        "  return slidThirdName #заглушка\n",
        "\n",
        "slindingThird = ThirdSlindingLevel(tree, SecondResult, Second)\n",
        "print(slindingThird)    "
      ],
      "metadata": {
        "colab": {
          "base_uri": "https://localhost:8080/"
        },
        "id": "WxL1aSPzu0cq",
        "outputId": "ccf16d34-d510-474e-93c0-4a34cf956a88"
      },
      "execution_count": 110,
      "outputs": [
        {
          "output_type": "stream",
          "name": "stdout",
          "text": [
            "Файл: Завтрак 300 ккал рецепт 2\n"
          ]
        }
      ]
    }
  ]
}